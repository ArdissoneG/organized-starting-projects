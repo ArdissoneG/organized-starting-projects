{
 "cells": [
  {
   "cell_type": "code",
   "execution_count": 41,
   "id": "1597ad9d-9a8a-487b-8afe-e1d439c386ac",
   "metadata": {},
   "outputs": [
    {
     "name": "stdout",
     "output_type": "stream",
     "text": [
      "name: snorlax\n",
      "id: 143\n",
      "height: 21\n",
      "weight: 4600\n",
      "Types: normal\n",
      "Stats:\n",
      "  Hp: 160\n",
      "  Attack: 110\n",
      "  Defense: 65\n",
      "  Special-attack: 65\n",
      "  Special-defense: 110\n",
      "  Speed: 30\n",
      "Held items:\n",
      " Chesto-berry\n",
      " Leftovers\n"
     ]
    }
   ],
   "source": [
    "import requests\n",
    "\n",
    "url2 = \"https://pokeapi.co/api/v2/\"\n",
    "\n",
    "def get_poke_inf(name):\n",
    "    url = f\"{url2}/pokemon/{name}\"\n",
    "    response = requests.get(url)\n",
    "\n",
    "    if response.status_code == 200:\n",
    "        poke_data = response.json()\n",
    "        return poke_data\n",
    "    else:\n",
    "        print(f\"failed to retrieved data {response.status_code}\")\n",
    "\n",
    "poke_name = \"snorlax\"\n",
    "poke_info = get_poke_inf(poke_name)\n",
    "\n",
    "if poke_info:\n",
    "    print(f\"name: {poke_info[\"name\"]}\")\n",
    "    print(f\"id: {poke_info[\"id\"]}\")\n",
    "    print(f\"height: {poke_info[\"height\"]}\")\n",
    "    print(f\"weight: {poke_info[\"weight\"]}\")\n",
    "    types = [t[\"type\"][\"name\"] for t in poke_info[\"types\"]]\n",
    "    print(\"Types:\", \", \".join(types))\n",
    "    print(\"Stats:\")\n",
    "    for stat in poke_info[\"stats\"]:\n",
    "        stat_name = stat[\"stat\"][\"name\"]\n",
    "        base_value = stat[\"base_stat\"]\n",
    "        print(f\"  {stat_name.capitalize()}: {base_value}\")\n",
    "    print(\"Held items:\")\n",
    "    for item in poke_info[\"held_items\"]:\n",
    "        item_name = item[\"item\"][\"name\"]\n",
    "        print(f\" {item_name.capitalize()}\")\n",
    "        \n",
    "    \n",
    "    "
   ]
  },
  {
   "cell_type": "code",
   "execution_count": null,
   "id": "8671ef88-13b8-4a7b-8ce1-2fce22fecb3a",
   "metadata": {},
   "outputs": [],
   "source": []
  }
 ],
 "metadata": {
  "kernelspec": {
   "display_name": "Python [conda env:base] *",
   "language": "python",
   "name": "conda-base-py"
  },
  "language_info": {
   "codemirror_mode": {
    "name": "ipython",
    "version": 3
   },
   "file_extension": ".py",
   "mimetype": "text/x-python",
   "name": "python",
   "nbconvert_exporter": "python",
   "pygments_lexer": "ipython3",
   "version": "3.12.7"
  }
 },
 "nbformat": 4,
 "nbformat_minor": 5
}
