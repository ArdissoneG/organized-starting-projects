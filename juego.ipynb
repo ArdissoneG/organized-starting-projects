{
 "cells": [
  {
   "cell_type": "code",
   "execution_count": 3,
   "id": "a039671d-c7f7-4e7a-857f-1aa31a92fa14",
   "metadata": {},
   "outputs": [],
   "source": [
    "import random"
   ]
  },
  {
   "cell_type": "code",
   "execution_count": 7,
   "id": "de140297-9d7b-44e6-a0c5-2e0a62037dcf",
   "metadata": {},
   "outputs": [
    {
     "name": "stdout",
     "output_type": "stream",
     "text": [
      "5\n"
     ]
    }
   ],
   "source": [
    "def roll():\n",
    "    min_value = 1\n",
    "    max_value = 6\n",
    "    roll = random.randint(min_value, max_value)\n",
    "\n",
    "    return roll\n",
    "\n",
    "value = roll ()\n",
    "print (value)"
   ]
  },
  {
   "cell_type": "code",
   "execution_count": null,
   "id": "223bdb85-34c8-46ac-91c9-b9495731fbdf",
   "metadata": {},
   "outputs": [
    {
     "name": "stdin",
     "output_type": "stream",
     "text": [
      "ingrese el numero de jugadores (2-4):  2\n"
     ]
    },
    {
     "name": "stdout",
     "output_type": "stream",
     "text": [
      "cantidad de jugadores: 2\n",
      "\n",
      "jugador n° 1 tu turno empezó\n",
      "\n",
      "tu puntaje es: 0\n"
     ]
    },
    {
     "name": "stdin",
     "output_type": "stream",
     "text": [
      "quisieras tirar el dado (y)? y\n"
     ]
    },
    {
     "name": "stdout",
     "output_type": "stream",
     "text": [
      "sacaste 5\n",
      "tu puntaje es: 5\n"
     ]
    },
    {
     "name": "stdin",
     "output_type": "stream",
     "text": [
      "quisieras tirar el dado (y)? n\n"
     ]
    },
    {
     "name": "stdout",
     "output_type": "stream",
     "text": [
      "tu puntaje total es: 5\n",
      "\n",
      "jugador n° 2 tu turno empezó\n",
      "\n",
      "tu puntaje es: 0\n"
     ]
    },
    {
     "name": "stdin",
     "output_type": "stream",
     "text": [
      "quisieras tirar el dado (y)? y\n"
     ]
    },
    {
     "name": "stdout",
     "output_type": "stream",
     "text": [
      "sacaste 2\n",
      "tu puntaje es: 2\n"
     ]
    },
    {
     "name": "stdin",
     "output_type": "stream",
     "text": [
      "quisieras tirar el dado (y)? n\n"
     ]
    },
    {
     "name": "stdout",
     "output_type": "stream",
     "text": [
      "tu puntaje total es: 2\n",
      "\n",
      "jugador n° 1 tu turno empezó\n",
      "\n",
      "tu puntaje es: 5\n"
     ]
    },
    {
     "name": "stdin",
     "output_type": "stream",
     "text": [
      "quisieras tirar el dado (y)? y\n"
     ]
    },
    {
     "name": "stdout",
     "output_type": "stream",
     "text": [
      "sacaste 3\n",
      "tu puntaje es: 8\n"
     ]
    }
   ],
   "source": [
    "while True:\n",
    "    players = input(\"ingrese el numero de jugadores (2-4): \")\n",
    "    if players.isdigit():\n",
    "        players = int(players)\n",
    "        if 2 <= players <= 4:\n",
    "            break\n",
    "        else:\n",
    "            print (\"número inválido\")\n",
    "    else:\n",
    "        print (\"valor no válido\")\n",
    "\n",
    "print(\"cantidad de jugadores:\", players)\n",
    "\n",
    "max_score = 50\n",
    "player_scores = [0 for _ in range(players)]\n",
    "\n",
    "while max(player_scores) < max_score:\n",
    "\n",
    "    for player_idx in range(players):\n",
    "        print(\"\\njugador n°\",player_idx + 1, \"tu turno empezó\\n\")\n",
    "        print(\"tu puntaje es:\", player_scores[player_idx])\n",
    "        current_score = 0\n",
    "\n",
    "        while True:\n",
    "            should_roll = input(\"quisieras tirar el dado (y)?\")\n",
    "            if should_roll.lower() != \"y\":\n",
    "                break\n",
    "                \n",
    "            value = roll()\n",
    "            print(\"sacaste\",value)\n",
    "            \n",
    "            if value == 1:\n",
    "                print(\"sacaste 1, se acabo el turno y pierdes puntos\")\n",
    "                current_score = 0\n",
    "                break\n",
    "            else:\n",
    "                current_score += value\n",
    "                            \n",
    "            print (\"tu puntaje es:\", player_scores[player_idx]+ current_score) \n",
    "            \n",
    "        player_scores[player_idx] += current_score\n",
    "        print(\"tu puntaje total es:\", player_scores[player_idx])\n",
    "max_score = max(player_scores)\n",
    "winning_idx= player_scores.index(max_score)\n",
    "print(\"jugador n°\",winning_idx + 1, \"gano con un puntaje de:\",max_score)"
   ]
  },
  {
   "cell_type": "code",
   "execution_count": 15,
   "id": "71dc26ec-3715-45d4-afc5-5dbf7fa6c4ad",
   "metadata": {},
   "outputs": [],
   "source": []
  },
  {
   "cell_type": "code",
   "execution_count": null,
   "id": "206b3fe7-a941-4e4c-883e-11f78c984ee8",
   "metadata": {},
   "outputs": [],
   "source": []
  }
 ],
 "metadata": {
  "kernelspec": {
   "display_name": "Python [conda env:base] *",
   "language": "python",
   "name": "conda-base-py"
  },
  "language_info": {
   "codemirror_mode": {
    "name": "ipython",
    "version": 3
   },
   "file_extension": ".py",
   "mimetype": "text/x-python",
   "name": "python",
   "nbconvert_exporter": "python",
   "pygments_lexer": "ipython3",
   "version": "3.12.7"
  }
 },
 "nbformat": 4,
 "nbformat_minor": 5
}
