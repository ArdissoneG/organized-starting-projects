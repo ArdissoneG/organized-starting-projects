{
 "cells": [
  {
   "cell_type": "markdown",
   "id": "f5e56975-d4bd-4a72-85aa-48963fbb6ede",
   "metadata": {},
   "source": [
    "# Calculador de IMC"
   ]
  },
  {
   "cell_type": "code",
   "execution_count": 1,
   "id": "04733182-f922-4d6b-9dc3-4ef4762e6c56",
   "metadata": {},
   "outputs": [
    {
     "name": "stdin",
     "output_type": "stream",
     "text": [
      "ingrese su peso en kg:  75\n",
      "ingrese su altura en m:  1.69\n"
     ]
    },
    {
     "name": "stdout",
     "output_type": "stream",
     "text": [
      "26.25958474843318\n",
      "sobrepeso\n"
     ]
    }
   ],
   "source": [
    "weight = int(input(\"ingrese su peso en kg: \"))\n",
    "\n",
    "height = float(input(\"ingrese su altura en m: \"))\n",
    "\n",
    "IMC = (weight/height**2)\n",
    "\n",
    "print(IMC)\n",
    "if IMC > 0:\n",
    "    if IMC < 18.5:\n",
    "        print(\"Peso bajo\")\n",
    "    elif IMC < 24.9:\n",
    "        print(\"peso normal\")\n",
    "    elif IMC <29.9:\n",
    "        print (\"sobrepeso\")\n",
    "    elif IMC < 34.9:\n",
    "        print(\"obesidad\")\n",
    "    elif IMC < 39.9:\n",
    "        print(\"obesidad severa\")\n",
    "    else:\n",
    "        print(\"obesidad morbida\")\n"
   ]
  },
  {
   "cell_type": "code",
   "execution_count": 14,
   "id": "c9a88245-6dfc-4b94-a41d-ad5c0128ed03",
   "metadata": {},
   "outputs": [
    {
     "name": "stdout",
     "output_type": "stream",
     "text": [
      "0.0026259584748433177\n"
     ]
    }
   ],
   "source": []
  },
  {
   "cell_type": "code",
   "execution_count": null,
   "id": "b48ab675-a95c-4f60-a11b-f57a37c2bee6",
   "metadata": {},
   "outputs": [],
   "source": [
    "Por debajo de 18.5\tBajo peso\n",
    "18.5 – 24.9\tNormal\n",
    "25.0 – 29.9\tSobrepeso\n",
    "30.0 o más\tObesidad"
   ]
  },
  {
   "cell_type": "code",
   "execution_count": 24,
   "id": "73d9ceb6-aacb-457e-b4f4-11f34c35ab08",
   "metadata": {},
   "outputs": [
    {
     "name": "stdout",
     "output_type": "stream",
     "text": [
      "sobrepeso\n"
     ]
    }
   ],
   "source": [
    "if IMC > 0:\n",
    "    if IMC < 18.5:\n",
    "        print(\"Peso bajo\")\n",
    "    elif IMC < 24.9:\n",
    "        print(\"peso normal\")\n",
    "    elif IMC <29.9:\n",
    "        print (\"sobrepeso\")\n",
    "    elif IMC < 34.9:\n",
    "        print(\"obesidad\")\n",
    "    elif IMC < 39.9:\n",
    "        print(\"obesidad severa\")\n",
    "    else:\n",
    "        print(\"obesidad morbida\")\n"
   ]
  },
  {
   "cell_type": "code",
   "execution_count": null,
   "id": "5487d435-2a37-4c0a-bcab-366af200520c",
   "metadata": {},
   "outputs": [],
   "source": []
  },
  {
   "cell_type": "code",
   "execution_count": null,
   "id": "4a360b9c-5a10-4ba5-a3ae-f148a3d22afc",
   "metadata": {},
   "outputs": [],
   "source": []
  },
  {
   "cell_type": "code",
   "execution_count": null,
   "id": "ee6d2dd8-f373-40fa-96c8-728e4a201414",
   "metadata": {},
   "outputs": [],
   "source": []
  },
  {
   "cell_type": "code",
   "execution_count": null,
   "id": "a81aa595-c975-47f9-9b8f-dea482619f64",
   "metadata": {},
   "outputs": [],
   "source": []
  },
  {
   "cell_type": "code",
   "execution_count": null,
   "id": "aea6b89b-ca67-4420-bc99-a024bf0a4a8b",
   "metadata": {},
   "outputs": [],
   "source": []
  }
 ],
 "metadata": {
  "kernelspec": {
   "display_name": "Python [conda env:base] *",
   "language": "python",
   "name": "conda-base-py"
  },
  "language_info": {
   "codemirror_mode": {
    "name": "ipython",
    "version": 3
   },
   "file_extension": ".py",
   "mimetype": "text/x-python",
   "name": "python",
   "nbconvert_exporter": "python",
   "pygments_lexer": "ipython3",
   "version": "3.12.7"
  }
 },
 "nbformat": 4,
 "nbformat_minor": 5
}
