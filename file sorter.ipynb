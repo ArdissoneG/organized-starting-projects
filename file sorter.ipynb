{
 "cells": [
  {
   "cell_type": "markdown",
   "id": "da85321b-a24e-4106-a1bb-b781b4fd89bf",
   "metadata": {},
   "source": [
    "# Automatic File Sorter"
   ]
  },
  {
   "cell_type": "code",
   "execution_count": 7,
   "id": "57caa806-fa95-49b2-b81e-9113a4640027",
   "metadata": {},
   "outputs": [],
   "source": []
  },
  {
   "cell_type": "code",
   "execution_count": 9,
   "id": "a8530b4d-2628-4362-9101-314fcc102b20",
   "metadata": {},
   "outputs": [],
   "source": []
  },
  {
   "cell_type": "code",
   "execution_count": 11,
   "id": "a1d34e90-b23f-4b46-89c0-032c9152198c",
   "metadata": {},
   "outputs": [],
   "source": []
  },
  {
   "cell_type": "code",
   "execution_count": 15,
   "id": "cbad3221-73dc-4b7c-8638-7b3ed07d968d",
   "metadata": {},
   "outputs": [
    {
     "name": "stdout",
     "output_type": "stream",
     "text": [
      "no files to be moved\n",
      "no files to be moved\n",
      "no files to be moved\n",
      "no files to be moved\n",
      "no files to be moved\n",
      "no files to be moved\n"
     ]
    }
   ],
   "source": [
    "import os, shutil\n",
    "path = r\"C:/Users/Personal/Desktop/programación/archivos para ordenar/\"\n",
    "file_name = os.listdir(path)\n",
    "folder_names = ['csv files','pdf files','image files']\n",
    "\n",
    "for loop in range(0,3):\n",
    "    if not os.path.exists(path + folder_names[loop]):\n",
    "        #print (path + folder_names[loop])\n",
    "        os.makedirs(path + folder_names[loop])\n",
    "        \n",
    "for file in file_name:\n",
    "    if \".csv\" in file and not os.path.exists(path + 'csv files/'+ file):\n",
    "        shutil.move (path + file, path + 'csv files/'+ file)\n",
    "    elif \".pdf\" in file and not os.path.exists(path + 'pdf files/'+ file):\n",
    "        shutil.move (path + file, path +  'pdf files/'+ file)\n",
    "    elif \".jpeg\" in file and not os.path.exists(path + 'image files/'+ file):\n",
    "        shutil.move (path + file, path +  'image files/'+ file)\n",
    "    else:\n",
    "        print(\"no files to be moved\")    "
   ]
  },
  {
   "cell_type": "code",
   "execution_count": 39,
   "id": "1dbf842e-7fcf-4122-b0a2-c96122377101",
   "metadata": {},
   "outputs": [
    {
     "name": "stdout",
     "output_type": "stream",
     "text": [
      "no files to be moved\n",
      "no files to be moved\n",
      "no files to be moved\n"
     ]
    }
   ],
   "source": [
    "for file in file_name:\n",
    "    if \".csv\" in file and not os.path.exists(path + 'csv files/'+ file):\n",
    "        shutil.move (path + file, path + 'csv files/'+ file)\n",
    "    elif \".pdf\" in file and not os.path.exists(path + 'pdf files/'+ file):\n",
    "        shutil.move (path + file, path +  'pdf files/'+ file)\n",
    "    elif \".jpeg\" in file and not os.path.exists(path + 'image files/'+ file):\n",
    "        shutil.move (path + file, path +  'image files/'+ file)\n",
    "    else:\n",
    "        print(\"no files to be moved\")\n",
    "    "
   ]
  },
  {
   "cell_type": "code",
   "execution_count": null,
   "id": "3614e72c-76fe-44ab-a1b7-ef34281c4521",
   "metadata": {},
   "outputs": [],
   "source": []
  },
  {
   "cell_type": "code",
   "execution_count": null,
   "id": "78228687-655a-4bb1-9174-6249b4c23b13",
   "metadata": {},
   "outputs": [],
   "source": []
  }
 ],
 "metadata": {
  "kernelspec": {
   "display_name": "Python [conda env:base] *",
   "language": "python",
   "name": "conda-base-py"
  },
  "language_info": {
   "codemirror_mode": {
    "name": "ipython",
    "version": 3
   },
   "file_extension": ".py",
   "mimetype": "text/x-python",
   "name": "python",
   "nbconvert_exporter": "python",
   "pygments_lexer": "ipython3",
   "version": "3.12.7"
  }
 },
 "nbformat": 4,
 "nbformat_minor": 5
}
