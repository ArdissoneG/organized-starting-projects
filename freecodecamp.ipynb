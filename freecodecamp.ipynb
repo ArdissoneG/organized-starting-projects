{
 "cells": [
  {
   "cell_type": "code",
   "execution_count": 7,
   "id": "c835e177-1b04-4e60-b89b-31d45e6db6af",
   "metadata": {},
   "outputs": [
    {
     "name": "stdout",
     "output_type": "stream",
     "text": [
      "'mean': [[3.0, 4.0, 5.0], [1.0, 4.0, 7.0] 4.0]\n",
      "'variance': [[6.0, 6.0, 6.0], [0.6666666666666666, 0.6666666666666666, 0.6666666666666666] 6.666666666666667]\n",
      "'standar deviation': [[2.449489742783178, 2.449489742783178, 2.449489742783178], [0.816496580927726, 0.816496580927726, 0.816496580927726] 2.581988897471611]\n",
      "'max': [[6, 7, 8], [2, 5, 8] 8]\n",
      "'min': [[0, 1, 2], [0, 3, 6] 0]\n",
      "'sum': [[9, 12, 15], [3, 12, 21] 36]\n"
     ]
    }
   ],
   "source": [
    "import numpy as np\n",
    "a =list(range(0,9))\n",
    "def calculate(lista):\n",
    "  if len(lista)<9:\n",
    "    print(\"List must contain nine numbers.\")\n",
    "  else:\n",
    "      matriz = np.reshape(lista,(3,3))\n",
    "      print(f\"'mean': [[{np.mean(matriz[:,0])}, {np.mean(matriz[:,1])}, {np.mean(matriz[:,2])}], [{np.mean(matriz[0,:])}, {np.mean(matriz[1,:])}, {np.mean(matriz[2,:])}] {np.mean(a)}]\")\n",
    "      print(f\"'variance': [[{np.var(matriz[:,0])}, {np.var(matriz[:,1])}, {np.var(matriz[:,2])}], [{np.var(matriz[0,:])}, {np.var(matriz[1,:])}, {np.var(matriz[2,:])}] {np.var(a)}]\")\n",
    "      print(f\"'standar deviation': [[{np.std(matriz[:,0])}, {np.std(matriz[:,1])}, {np.std(matriz[:,2])}], [{np.std(matriz[0,:])}, {np.std(matriz[1,:])}, {np.std(matriz[2,:])}] {np.std(a)}]\")\n",
    "      print(f\"'max': [[{np.max(matriz[:,0])}, {np.max(matriz[:,1])}, {np.max(matriz[:,2])}], [{np.max(matriz[0,:])}, {np.max(matriz[1,:])}, {np.max(matriz[2,:])}] {np.max(a)}]\")\n",
    "      print(f\"'min': [[{np.min(matriz[:,0])}, {np.min(matriz[:,1])}, {np.min(matriz[:,2])}], [{np.min(matriz[0,:])}, {np.min(matriz[1,:])}, {np.min(matriz[2,:])}] {np.min(a)}]\")\n",
    "      print(f\"'sum': [[{np.sum(matriz[:,0])}, {np.sum(matriz[:,1])}, {np.sum(matriz[:,2])}], [{np.sum(matriz[0,:])}, {np.sum(matriz[1,:])}, {np.sum(matriz[2,:])}] {np.sum(a)}]\")\n",
    "  #return matriz\n",
    "\n",
    "lista = a\n",
    "\n",
    "calculate(a)"
   ]
  },
  {
   "cell_type": "code",
   "execution_count": null,
   "id": "d7f97036-3686-432c-b31a-6b8153a8a999",
   "metadata": {},
   "outputs": [],
   "source": []
  },
  {
   "cell_type": "code",
   "execution_count": null,
   "id": "6d85c27d-5854-40f2-9f77-d723e87b8bc4",
   "metadata": {},
   "outputs": [],
   "source": []
  },
  {
   "cell_type": "code",
   "execution_count": 54,
   "id": "150a7ddf-3aed-4ba7-8d64-74ea330651d0",
   "metadata": {},
   "outputs": [
    {
     "name": "stdout",
     "output_type": "stream",
     "text": [
      "census-income.data\n",
      "census-income.names\n",
      "census-income.test\n"
     ]
    },
    {
     "ename": "ParserError",
     "evalue": "Error tokenizing data. C error: Expected 1 fields in line 6, saw 2\n",
     "output_type": "error",
     "traceback": [
      "\u001b[1;31m---------------------------------------------------------------------------\u001b[0m",
      "\u001b[1;31mParserError\u001b[0m                               Traceback (most recent call last)",
      "Cell \u001b[1;32mIn[54], line 11\u001b[0m\n\u001b[0;32m      9\u001b[0m         \u001b[38;5;28mprint\u001b[39m(miembro\u001b[38;5;241m.\u001b[39mname)\n\u001b[0;32m     10\u001b[0m     archivo_1 \u001b[38;5;241m=\u001b[39m tar\u001b[38;5;241m.\u001b[39mextractfile(\u001b[38;5;124m\"\u001b[39m\u001b[38;5;124mcensus-income.names\u001b[39m\u001b[38;5;124m\"\u001b[39m)\n\u001b[1;32m---> 11\u001b[0m     df1 \u001b[38;5;241m=\u001b[39m pd\u001b[38;5;241m.\u001b[39mread_csv(archivo_1, header\u001b[38;5;241m=\u001b[39m\u001b[38;5;28;01mNone\u001b[39;00m)\n\u001b[0;32m     12\u001b[0m \u001b[38;5;28mprint\u001b[39m(df1\u001b[38;5;241m.\u001b[39mhead())\n",
      "File \u001b[1;32mF:\\anaconda\\Lib\\site-packages\\pandas\\io\\parsers\\readers.py:1026\u001b[0m, in \u001b[0;36mread_csv\u001b[1;34m(filepath_or_buffer, sep, delimiter, header, names, index_col, usecols, dtype, engine, converters, true_values, false_values, skipinitialspace, skiprows, skipfooter, nrows, na_values, keep_default_na, na_filter, verbose, skip_blank_lines, parse_dates, infer_datetime_format, keep_date_col, date_parser, date_format, dayfirst, cache_dates, iterator, chunksize, compression, thousands, decimal, lineterminator, quotechar, quoting, doublequote, escapechar, comment, encoding, encoding_errors, dialect, on_bad_lines, delim_whitespace, low_memory, memory_map, float_precision, storage_options, dtype_backend)\u001b[0m\n\u001b[0;32m   1013\u001b[0m kwds_defaults \u001b[38;5;241m=\u001b[39m _refine_defaults_read(\n\u001b[0;32m   1014\u001b[0m     dialect,\n\u001b[0;32m   1015\u001b[0m     delimiter,\n\u001b[1;32m   (...)\u001b[0m\n\u001b[0;32m   1022\u001b[0m     dtype_backend\u001b[38;5;241m=\u001b[39mdtype_backend,\n\u001b[0;32m   1023\u001b[0m )\n\u001b[0;32m   1024\u001b[0m kwds\u001b[38;5;241m.\u001b[39mupdate(kwds_defaults)\n\u001b[1;32m-> 1026\u001b[0m \u001b[38;5;28;01mreturn\u001b[39;00m _read(filepath_or_buffer, kwds)\n",
      "File \u001b[1;32mF:\\anaconda\\Lib\\site-packages\\pandas\\io\\parsers\\readers.py:626\u001b[0m, in \u001b[0;36m_read\u001b[1;34m(filepath_or_buffer, kwds)\u001b[0m\n\u001b[0;32m    623\u001b[0m     \u001b[38;5;28;01mreturn\u001b[39;00m parser\n\u001b[0;32m    625\u001b[0m \u001b[38;5;28;01mwith\u001b[39;00m parser:\n\u001b[1;32m--> 626\u001b[0m     \u001b[38;5;28;01mreturn\u001b[39;00m parser\u001b[38;5;241m.\u001b[39mread(nrows)\n",
      "File \u001b[1;32mF:\\anaconda\\Lib\\site-packages\\pandas\\io\\parsers\\readers.py:1923\u001b[0m, in \u001b[0;36mTextFileReader.read\u001b[1;34m(self, nrows)\u001b[0m\n\u001b[0;32m   1916\u001b[0m nrows \u001b[38;5;241m=\u001b[39m validate_integer(\u001b[38;5;124m\"\u001b[39m\u001b[38;5;124mnrows\u001b[39m\u001b[38;5;124m\"\u001b[39m, nrows)\n\u001b[0;32m   1917\u001b[0m \u001b[38;5;28;01mtry\u001b[39;00m:\n\u001b[0;32m   1918\u001b[0m     \u001b[38;5;66;03m# error: \"ParserBase\" has no attribute \"read\"\u001b[39;00m\n\u001b[0;32m   1919\u001b[0m     (\n\u001b[0;32m   1920\u001b[0m         index,\n\u001b[0;32m   1921\u001b[0m         columns,\n\u001b[0;32m   1922\u001b[0m         col_dict,\n\u001b[1;32m-> 1923\u001b[0m     ) \u001b[38;5;241m=\u001b[39m \u001b[38;5;28mself\u001b[39m\u001b[38;5;241m.\u001b[39m_engine\u001b[38;5;241m.\u001b[39mread(  \u001b[38;5;66;03m# type: ignore[attr-defined]\u001b[39;00m\n\u001b[0;32m   1924\u001b[0m         nrows\n\u001b[0;32m   1925\u001b[0m     )\n\u001b[0;32m   1926\u001b[0m \u001b[38;5;28;01mexcept\u001b[39;00m \u001b[38;5;167;01mException\u001b[39;00m:\n\u001b[0;32m   1927\u001b[0m     \u001b[38;5;28mself\u001b[39m\u001b[38;5;241m.\u001b[39mclose()\n",
      "File \u001b[1;32mF:\\anaconda\\Lib\\site-packages\\pandas\\io\\parsers\\c_parser_wrapper.py:234\u001b[0m, in \u001b[0;36mCParserWrapper.read\u001b[1;34m(self, nrows)\u001b[0m\n\u001b[0;32m    232\u001b[0m \u001b[38;5;28;01mtry\u001b[39;00m:\n\u001b[0;32m    233\u001b[0m     \u001b[38;5;28;01mif\u001b[39;00m \u001b[38;5;28mself\u001b[39m\u001b[38;5;241m.\u001b[39mlow_memory:\n\u001b[1;32m--> 234\u001b[0m         chunks \u001b[38;5;241m=\u001b[39m \u001b[38;5;28mself\u001b[39m\u001b[38;5;241m.\u001b[39m_reader\u001b[38;5;241m.\u001b[39mread_low_memory(nrows)\n\u001b[0;32m    235\u001b[0m         \u001b[38;5;66;03m# destructive to chunks\u001b[39;00m\n\u001b[0;32m    236\u001b[0m         data \u001b[38;5;241m=\u001b[39m _concatenate_chunks(chunks)\n",
      "File \u001b[1;32mparsers.pyx:838\u001b[0m, in \u001b[0;36mpandas._libs.parsers.TextReader.read_low_memory\u001b[1;34m()\u001b[0m\n",
      "File \u001b[1;32mparsers.pyx:905\u001b[0m, in \u001b[0;36mpandas._libs.parsers.TextReader._read_rows\u001b[1;34m()\u001b[0m\n",
      "File \u001b[1;32mparsers.pyx:874\u001b[0m, in \u001b[0;36mpandas._libs.parsers.TextReader._tokenize_rows\u001b[1;34m()\u001b[0m\n",
      "File \u001b[1;32mparsers.pyx:891\u001b[0m, in \u001b[0;36mpandas._libs.parsers.TextReader._check_tokenize_status\u001b[1;34m()\u001b[0m\n",
      "File \u001b[1;32mparsers.pyx:2061\u001b[0m, in \u001b[0;36mpandas._libs.parsers.raise_parser_error\u001b[1;34m()\u001b[0m\n",
      "\u001b[1;31mParserError\u001b[0m: Error tokenizing data. C error: Expected 1 fields in line 6, saw 2\n"
     ]
    }
   ],
   "source": [
    "import tarfile\n",
    "import pandas as pd\n",
    "pd.reset_option('display.max_columns')\n",
    "pd.reset_option('display.width')\n",
    "archivo = 'C:/Users/Personal/Desktop/programación/census.tar.gz'\n",
    "\n",
    "with tarfile.open(archivo, \"r:gz\") as tar:\n",
    "    for miembro in tar.getmembers():\n",
    "        print(miembro.name)\n",
    "    archivo_1 = tar.extractfile(\"census-income.data\")\n",
    "    df1 = pd.read_csv(archivo_1, header=None)\n",
    "print(df1.head())    \n",
    "  "
   ]
  },
  {
   "cell_type": "code",
   "execution_count": 50,
   "id": "c28e1f84-f45d-4bf4-bd77-d92f503c622f",
   "metadata": {},
   "outputs": [],
   "source": [
    "df1.to_csv('C:/Users/Personal/Desktop/programación/freecodecamp2.csv', index=False)"
   ]
  },
  {
   "cell_type": "code",
   "execution_count": 56,
   "id": "8b0b4578-ce32-463a-8793-e4fdea32916c",
   "metadata": {},
   "outputs": [
    {
     "name": "stdout",
     "output_type": "stream",
     "text": [
      "| This data was extracted from the census bureau database found at\n",
      "| http://www.census.gov/ftp/pub/DES/www/welcome.html\n",
      "| Donor: Terran Lane and Ronny Kohavi\n",
      "|        Data Mining and Visualization\n",
      "|        Silicon Graphics.\n",
      "|        e-mail: terran@ecn.purdue.edu, ronnyk@sgi.com for questions.\n",
      "|\n",
      "| The data was split into train/test in approximately 2/3, 1/3\n",
      "| proportions using MineSet's MIndUtil mineset-to-mlc.\n",
      "|\n",
      "| Prediction task is to determine the income level for the person\n",
      "| represented by the record.  Incomes have been binned at the $50K\n",
      "| level to present a binary classification problem, much like the\n",
      "| original UCI/ADULT database.  The goal field of this data, however,\n",
      "| was drawn from the \"total person income\" field rather than the\n",
      "| \"adjusted gross income\" and may, therefore, behave differently than the\n",
      "| orginal ADULT goal field.\n",
      "|\n",
      "| More information detailing the meaning of the attributes can be\n",
      "| found in http://www.bls.census.gov/cps/cpsmain.htm\n",
      "| To make use of the data descriptions at this site, the following mappings\n",
      "| to the Census Bureau's internal database column names will be needed:\n",
      "|\n",
      "| age\t\t\t\t\t\tAAGE\n",
      "| class of worker\t\t\t\tACLSWKR\n",
      "| industry code\t\t\t\t\tADTIND\n",
      "| occupation code\t\t\t\tADTOCC\n",
      "| adjusted gross income\t\t\t\tAGI\n",
      "| education\t\t\t\t\tAHGA\n",
      "| wage per hour\t\t\t\t\tAHRSPAY\n",
      "| enrolled in edu inst last wk\t\t\tAHSCOL\n",
      "| marital status\t\t\t\tAMARITL\n",
      "| major industry code\t\t\t\tAMJIND\n",
      "| major occupation code\t\t\t\tAMJOCC\n",
      "| mace\t\t\t\t\t\tARACE\n",
      "| hispanic Origin\t\t\t\tAREORGN\n",
      "| sex\t\t\t\t\t\tASEX\n",
      "| member of a labor union\t\t\tAUNMEM\n",
      "| reason for unemployment\t\t\tAUNTYPE\n",
      "| full or part time employment stat\t\tAWKSTAT\n",
      "| capital gains\t\t\t\t\tCAPGAIN\n",
      "| capital losses\t\t\t\tCAPLOSS\n",
      "| divdends from stocks\t\t\t\tDIVVAL\n",
      "| federal income tax liability\t\t\tFEDTAX\n",
      "| tax filer status\t\t\t\tFILESTAT\n",
      "| region of previous residence\t\t\tGRINREG\n",
      "| state of previous residence\t\t\tGRINST\n",
      "| detailed household and family stat\t\tHHDFMX\n",
      "| detailed household summary in household\tHHDREL\n",
      "| instance weight\t\t\t\tMARSUPWT\n",
      "| migration code-change in msa\t\t\tMIGMTR1\n",
      "| migration code-change in reg\t\t\tMIGMTR3\n",
      "| migration code-move within reg\t\tMIGMTR4\n",
      "| live in this house 1 year ago\t\t\tMIGSAME\n",
      "| migration prev res in sunbelt\t\t\tMIGSUN\n",
      "| num persons worked for employer\t\tNOEMP\n",
      "| family members under 18\t\t\tPARENT\n",
      "| total person earnings\t\t\t\tPEARNVAL\n",
      "| country of birth father\t\t\tPEFNTVTY\n",
      "| country of birth mother\t\t\tPEMNTVTY\n",
      "| country of birth self\t\t\t\tPENATVTY\n",
      "| citizenship\t\t\t\t\tPRCITSHP\n",
      "| total person income\t\t\t\tPTOTVAL\n",
      "| own business or self employed\t\t\tSEOTR\n",
      "| taxable income amount\t\t\t\tTAXINC\n",
      "| fill inc questionnaire for veteran's admin\tVETQVA\n",
      "| veterans benefits\t\t\t\tVETYN\n",
      "| weeks worked in year\t\t\t\tWKSWORK\n",
      "| \n",
      "| Basic statistics for this data set:\n",
      "|\n",
      "| Number of instances data = 199523\n",
      "|    Duplicate or conflicting instances : 46716\n",
      "| Number of instances in test = 99762\n",
      "|    Duplicate or conflicting instances : 20936\n",
      "| Class probabilities for income-projected.test file\n",
      "| Probability for the label '- 50000' : 93.80%\n",
      "| Probability for the label '50000+' : 6.20%\n",
      "| Majority accuracy: 93.80% on value - 50000\n",
      "| Number of attributes = 40 (continuous : 7 nominal : 33)\n",
      "| Information about .data file : \n",
      "|   91 distinct values for attribute #0 (age) continuous\n",
      "|    9 distinct values for attribute #1 (class of worker) nominal\n",
      "|   52 distinct values for attribute #2 (detailed industry recode) nominal\n",
      "|   47 distinct values for attribute #3 (detailed occupation recode) nominal\n",
      "|   17 distinct values for attribute #4 (education) nominal\n",
      "| 1240 distinct values for attribute #5 (wage per hour) continuous\n",
      "|    3 distinct values for attribute #6 (enroll in edu inst last wk) nominal\n",
      "|    7 distinct values for attribute #7 (marital stat) nominal\n",
      "|   24 distinct values for attribute #8 (major industry code) nominal\n",
      "|   15 distinct values for attribute #9 (major occupation code) nominal\n",
      "|    5 distinct values for attribute #10 (race) nominal\n",
      "|   10 distinct values for attribute #11 (hispanic origin) nominal\n",
      "|    2 distinct values for attribute #12 (sex) nominal\n",
      "|    3 distinct values for attribute #13 (member of a labor union) nominal\n",
      "|    6 distinct values for attribute #14 (reason for unemployment) nominal\n",
      "|    8 distinct values for attribute #15 (full or part time employment stat) nominal\n",
      "|  132 distinct values for attribute #16 (capital gains) continuous\n",
      "|  113 distinct values for attribute #17 (capital losses) continuous\n",
      "| 1478 distinct values for attribute #18 (dividends from stocks) continuous\n",
      "|    6 distinct values for attribute #19 (tax filer stat) nominal\n",
      "|    6 distinct values for attribute #20 (region of previous residence) nominal\n",
      "|   51 distinct values for attribute #21 (state of previous residence) nominal\n",
      "|   38 distinct values for attribute #22 (detailed household and family stat) nominal\n",
      "|    8 distinct values for attribute #23 (detailed household summary in household) nominal\n",
      "|   10 distinct values for attribute #24 (migration code-change in msa) nominal\n",
      "|    9 distinct values for attribute #25 (migration code-change in reg) nominal\n",
      "|   10 distinct values for attribute #26 (migration code-move within reg) nominal\n",
      "|    3 distinct values for attribute #27 (live in this house 1 year ago) nominal\n",
      "|    4 distinct values for attribute #28 (migration prev res in sunbelt) nominal\n",
      "|    7 distinct values for attribute #29 (num persons worked for employer) continuous\n",
      "|    5 distinct values for attribute #30 (family members under 18) nominal\n",
      "|   43 distinct values for attribute #31 (country of birth father) nominal\n",
      "|   43 distinct values for attribute #32 (country of birth mother) nominal\n",
      "|   43 distinct values for attribute #33 (country of birth self) nominal\n",
      "|    5 distinct values for attribute #34 (citizenship) nominal\n",
      "|    3 distinct values for attribute #35 (own business or self employed) nominal\n",
      "|    3 distinct values for attribute #36 (fill inc questionnaire for veteran's admin) nominal\n",
      "|    3 distinct values for attribute #37 (veterans benefits) nominal\n",
      "|   53 distinct values for attribute #38 (weeks worked in year) continuous\n",
      "|    2 distinct values for attribute #39 (year) nominal\n",
      "| \n",
      "|\n",
      "| Error rates:\n",
      "|    C4.5       \t: 4.8%\n",
      "|    C5.0\t\t: 4.7%\n",
      "|    C5.0 rules\t\t: 4.7%\n",
      "|    C5.0 boosting\t: 4.6%\n",
      "|    Naive-Bayes\t: 23.2%\n",
      "|\n",
      "| \n",
      "| All commas and periods were changed to spaces\n",
      "| Colons were replaced with dashes.\n",
      "|\n",
      "| The instance weight indicates the number of people in the population\n",
      "| that each record represents due to stratified sampling.\n",
      "| To do real analysis and derive conclusions, this field must be used.\n",
      "| This attribute should *not* be used in the classifiers, so it is\n",
      "| set to \"ignore\" in this file.\n",
      "|\n",
      "- 50000, 50000+.\n",
      "\n",
      "age: continuous.\n",
      "class of worker: Not in universe, Federal government, Local government, Never worked, Private, Self-employed-incorporated, Self-employed-not incorporated, State government, Without pay.\n",
      "detailed industry recode: 0, 40, 44, 2, 43, 47, 48, 1, 11, 19, 24, 25, 32, 33, 34, 35, 36, 37, 38, 39, 4, 42, 45, 5, 15, 16, 22, 29, 31, 50, 14, 17, 18, 28, 3, 30, 41, 46, 51, 12, 13, 21, 23, 26, 6, 7, 9, 49, 27, 8, 10, 20.\n",
      "detailed occupation recode: 0, 12, 31, 44, 19, 32, 10, 23, 26, 28, 29, 42, 40, 34, 14, 36, 38, 2, 20, 25, 37, 41, 27, 24, 30, 43, 33, 16, 45, 17, 35, 22, 18, 39, 3, 15, 13, 46, 8, 21, 9, 4, 6, 5, 1, 11, 7.\n",
      "education: Children, 7th and 8th grade, 9th grade, 10th grade, High school graduate, 11th grade, 12th grade no diploma, 5th or 6th grade, Less than 1st grade, Bachelors degree(BA AB BS), 1st 2nd 3rd or 4th grade, Some college but no degree, Masters degree(MA MS MEng MEd MSW MBA), Associates degree-occup /vocational, Associates degree-academic program, Doctorate degree(PhD EdD), Prof school degree (MD DDS DVM LLB JD).\n",
      "wage per hour: continuous.\n",
      "enroll in edu inst last wk: Not in universe, High school, College or university.\n",
      "marital stat: Never married, Married-civilian spouse present, Married-spouse absent, Separated, Divorced, Widowed, Married-A F spouse present.\n",
      "major industry code: Not in universe or children, Entertainment, Social services, Agriculture, Education, Public administration, Manufacturing-durable goods, Manufacturing-nondurable goods, Wholesale trade, Retail trade, Finance insurance and real estate, Private household services, Business and repair services, Personal services except private HH, Construction, Medical except hospital, Other professional services, Transportation, Utilities and sanitary services, Mining, Communications, Hospital services, Forestry and fisheries, Armed Forces.\n",
      "major occupation code: Not in universe, Professional specialty, Other service, Farming forestry and fishing, Sales, Adm support including clerical, Protective services, Handlers equip cleaners etc , Precision production craft & repair, Technicians and related support, Machine operators assmblrs & inspctrs, Transportation and material moving, Executive admin and managerial, Private household services, Armed Forces.\n",
      "race: White, Black, Other, Amer Indian Aleut or Eskimo, Asian or Pacific Islander.\n",
      "hispanic origin: Mexican (Mexicano), Mexican-American, Puerto Rican, Central or South American, All other, Other Spanish, Chicano, Cuban, Do not know, NA.\n",
      "sex: Female, Male.\n",
      "member of a labor union: Not in universe, No, Yes.\n",
      "reason for unemployment: Not in universe, Re-entrant, Job loser - on layoff, New entrant, Job leaver, Other job loser.\n",
      "full or part time employment stat: Children or Armed Forces, Full-time schedules, Unemployed part- time, Not in labor force, Unemployed full-time, PT for non-econ reasons usually FT, PT for econ reasons usually PT, PT for econ reasons usually FT.\n",
      "capital gains: continuous.\n",
      "capital losses: continuous.\n",
      "dividends from stocks: continuous.\n",
      "tax filer stat: Nonfiler, Joint one under 65 & one 65+, Joint both under 65, Single, Head of household, Joint both 65+.\n",
      "region of previous residence: Not in universe, South, Northeast, West, Midwest, Abroad.\n",
      "state of previous residence: Not in universe, Utah, Michigan, North Carolina, North Dakota, Virginia, Vermont, Wyoming, West Virginia, Pennsylvania, Abroad, Oregon, California, Iowa, Florida, Arkansas, Texas, South Carolina, Arizona, Indiana, Tennessee, Maine, Alaska, Ohio, Montana, Nebraska, Mississippi, District of Columbia, Minnesota, Illinois, Kentucky, Delaware, Colorado, Maryland, Wisconsin, New Hampshire, Nevada, New York, Georgia, Oklahoma, New Mexico, South Dakota, Missouri, Kansas, Connecticut, Louisiana, Alabama, Massachusetts, Idaho, New Jersey.\n",
      "detailed household and family stat: Child <18 never marr not in subfamily, Other Rel <18 never marr child of subfamily RP, Other Rel <18 never marr not in subfamily, Grandchild <18 never marr child of subfamily RP, Grandchild <18 never marr not in subfamily, Secondary individual, In group quarters, Child under 18 of RP of unrel subfamily, RP of unrelated subfamily, Spouse of householder, Householder, Other Rel <18 never married RP of subfamily, Grandchild <18 never marr RP of subfamily, Child <18 never marr RP of subfamily, Child <18 ever marr not in subfamily, Other Rel <18 ever marr RP of subfamily, Child <18 ever marr RP of subfamily, Nonfamily householder, Child <18 spouse of subfamily RP, Other Rel <18 spouse of subfamily RP, Other Rel <18 ever marr not in subfamily, Grandchild <18 ever marr not in subfamily, Child 18+ never marr Not in a subfamily, Grandchild 18+ never marr not in subfamily, Child 18+ ever marr RP of subfamily, Other Rel 18+ never marr not in subfamily, Child 18+ never marr RP of subfamily, Other Rel 18+ ever marr RP of subfamily, Other Rel 18+ never marr RP of subfamily, Other Rel 18+ spouse of subfamily RP, Other Rel 18+ ever marr not in subfamily, Child 18+ ever marr Not in a subfamily, Grandchild 18+ ever marr not in subfamily, Child 18+ spouse of subfamily RP, Spouse of RP of unrelated subfamily, Grandchild 18+ ever marr RP of subfamily, Grandchild 18+ never marr RP of subfamily, Grandchild 18+ spouse of subfamily RP.\n",
      "detailed household summary in household: Child under 18 never married, Other relative of householder, Nonrelative of householder, Spouse of householder, Householder, Child under 18 ever married, Group Quarters- Secondary individual, Child 18 or older.\n",
      "| instance weight: ignore.\n",
      "instance weight: continuous.\n",
      "migration code-change in msa: Not in universe, Nonmover, MSA to MSA, NonMSA to nonMSA, MSA to nonMSA, NonMSA to MSA, Abroad to MSA, Not identifiable, Abroad to nonMSA.\n",
      "migration code-change in reg: Not in universe, Nonmover, Same county, Different county same state, Different state same division, Abroad, Different region, Different division same region.\n",
      "migration code-move within reg: Not in universe, Nonmover, Same county, Different county same state, Different state in West, Abroad, Different state in Midwest, Different state in South, Different state in Northeast.\n",
      "live in this house 1 year ago: Not in universe under 1 year old, Yes, No.\n",
      "migration prev res in sunbelt: Not in universe, Yes, No.\n",
      "num persons worked for employer: continuous.\n",
      "family members under 18: Both parents present, Neither parent present, Mother only present, Father only present, Not in universe.\n",
      "country of birth father: Mexico, United-States, Puerto-Rico, Dominican-Republic, Jamaica, Cuba, Portugal, Nicaragua, Peru, Ecuador, Guatemala, Philippines, Canada, Columbia, El-Salvador, Japan, England, Trinadad&Tobago, Honduras, Germany, Taiwan, Outlying-U S (Guam USVI etc), India, Vietnam, China, Hong Kong, Cambodia, France, Laos, Haiti, South Korea, Iran, Greece, Italy, Poland, Thailand, Yugoslavia, Holand-Netherlands, Ireland, Scotland, Hungary, Panama.\n",
      "country of birth mother: India, Mexico, United-States, Puerto-Rico, Dominican-Republic, England, Honduras, Peru, Guatemala, Columbia, El-Salvador, Philippines, France, Ecuador, Nicaragua, Cuba, Outlying-U S (Guam USVI etc), Jamaica, South Korea, China, Germany, Yugoslavia, Canada, Vietnam, Japan, Cambodia, Ireland, Laos, Haiti, Portugal, Taiwan, Holand-Netherlands, Greece, Italy, Poland, Thailand, Trinadad&Tobago, Hungary, Panama, Hong Kong, Scotland, Iran.\n",
      "country of birth self: United-States, Mexico, Puerto-Rico, Peru, Canada, South Korea, India, Japan, Haiti, El-Salvador, Dominican-Republic, Portugal, Columbia, England, Thailand, Cuba, Laos, Panama, China, Germany, Vietnam, Italy, Honduras, Outlying-U S (Guam USVI etc), Hungary, Philippines, Poland, Ecuador, Iran, Guatemala, Holand-Netherlands, Taiwan, Nicaragua, France, Jamaica, Scotland, Yugoslavia, Hong Kong, Trinadad&Tobago, Greece, Cambodia, Ireland.\n",
      "citizenship: Native- Born in the United States, Foreign born- Not a citizen of U S , Native- Born in Puerto Rico or U S Outlying, Native- Born abroad of American Parent(s), Foreign born- U S citizen by naturalization.\n",
      "own business or self employed: 0, 2, 1.\n",
      "fill inc questionnaire for veteran's admin: Not in universe, Yes, No.\n",
      "veterans benefits: 0, 2, 1.\n",
      "weeks worked in year: continuous.\n",
      "year: 94, 95.\n",
      "\n"
     ]
    }
   ],
   "source": [
    "with tarfile.open(archivo, \"r:gz\") as tar:\n",
    "    archivo_2 = tar.extractfile(\"census-income.names\")\n",
    "    contenido = archivo_2.read().decode(\"utf-8\")\n",
    "    print(contenido)"
   ]
  },
  {
   "cell_type": "code",
   "execution_count": 58,
   "id": "222217d9-d0ef-4d3b-867e-3456c07fc0a5",
   "metadata": {},
   "outputs": [
    {
     "name": "stdout",
     "output_type": "stream",
     "text": [
      "   age                  class of worker  industry code  occupation code  \\\n",
      "0   73                  Not in universe              0                0   \n",
      "1   58   Self-employed-not incorporated              4               34   \n",
      "2   18                  Not in universe              0                0   \n",
      "3    9                  Not in universe              0                0   \n",
      "4   10                  Not in universe              0                0   \n",
      "\n",
      "         adjusted gross income  education     wage per hour  \\\n",
      "0         High school graduate          0   Not in universe   \n",
      "1   Some college but no degree          0   Not in universe   \n",
      "2                   10th grade          0       High school   \n",
      "3                     Children          0   Not in universe   \n",
      "4                     Children          0   Not in universe   \n",
      "\n",
      "  enrolled in edu inst last wk                marital status  \\\n",
      "0                      Widowed   Not in universe or children   \n",
      "1                     Divorced                  Construction   \n",
      "2                Never married   Not in universe or children   \n",
      "3                Never married   Not in universe or children   \n",
      "4                Never married   Not in universe or children   \n",
      "\n",
      "                    major industry code  ...  \\\n",
      "0                       Not in universe  ...   \n",
      "1   Precision production craft & repair  ...   \n",
      "2                       Not in universe  ...   \n",
      "3                       Not in universe  ...   \n",
      "4                       Not in universe  ...   \n",
      "\n",
      "                country of birth father country of birth mother  \\\n",
      "0     Native- Born in the United States                       0   \n",
      "1     Native- Born in the United States                       0   \n",
      "2   Foreign born- Not a citizen of U S                        0   \n",
      "3     Native- Born in the United States                       0   \n",
      "4     Native- Born in the United States                       0   \n",
      "\n",
      "  country of birth self citizenship total person income  \\\n",
      "0       Not in universe           2                   0   \n",
      "1       Not in universe           2                  52   \n",
      "2       Not in universe           2                   0   \n",
      "3       Not in universe           0                   0   \n",
      "4       Not in universe           0                   0   \n",
      "\n",
      "  own business or self employed  taxable income amount  \\\n",
      "0                            95               - 50000.   \n",
      "1                            94               - 50000.   \n",
      "2                            95               - 50000.   \n",
      "3                            94               - 50000.   \n",
      "4                            94               - 50000.   \n",
      "\n",
      "   fill inc questionnaire for veteran's admin  veterans benefits  \\\n",
      "0                                         NaN                NaN   \n",
      "1                                         NaN                NaN   \n",
      "2                                         NaN                NaN   \n",
      "3                                         NaN                NaN   \n",
      "4                                         NaN                NaN   \n",
      "\n",
      "  weeks worked in year  \n",
      "0                  NaN  \n",
      "1                  NaN  \n",
      "2                  NaN  \n",
      "3                  NaN  \n",
      "4                  NaN  \n",
      "\n",
      "[5 rows x 45 columns]\n"
     ]
    }
   ],
   "source": [
    "columnas = [\n",
    "    \"age\", \"class of worker\", \"industry code\", \"occupation code\", \"adjusted gross income\", \n",
    "    \"education\", \"wage per hour\", \"enrolled in edu inst last wk\", \"marital status\", \n",
    "    \"major industry code\", \"major occupation code\", \"mace\", \"hispanic Origin\", \"sex\", \n",
    "    \"member of a labor union\", \"reason for unemployment\", \"full or part time employment stat\", \n",
    "    \"capital gains\", \"capital losses\", \"divdends from stocks\", \"federal income tax liability\", \n",
    "    \"tax filer status\", \"region of previous residence\", \"state of previous residence\", \n",
    "    \"detailed household and family stat\", \"detailed household summary in household\", \n",
    "    \"instance weight\", \"migration code-change in msa\", \"migration code-change in reg\", \n",
    "    \"migration code-move within reg\", \"live in this house 1 year ago\", \n",
    "    \"migration prev res in sunbelt\", \"num persons worked for employer\", \n",
    "    \"family members under 18\", \"total person earnings\", \"country of birth father\", \n",
    "    \"country of birth mother\", \"country of birth self\", \"citizenship\", \n",
    "    \"total person income\", \"own business or self employed\", \"taxable income amount\", \n",
    "    \"fill inc questionnaire for veteran's admin\", \"veterans benefits\", \n",
    "    \"weeks worked in year\"\n",
    "]\n",
    "with tarfile.open(archivo, \"r:gz\") as tar:\n",
    "    archivo_1 = tar.extractfile(\"census-income.data\")\n",
    "    df1 = pd.read_csv(archivo_1, header=None, names=columnas)\n",
    "print(df1.head())    \n"
   ]
  },
  {
   "cell_type": "code",
   "execution_count": 60,
   "id": "0534c019-1279-4b6f-9a3c-4eb4f4964dad",
   "metadata": {},
   "outputs": [],
   "source": [
    "df1.to_csv('C:/Users/Personal/Desktop/programación/freecodecamp2.csv', index=False)"
   ]
  },
  {
   "cell_type": "code",
   "execution_count": 68,
   "id": "982e70ed-5dc6-442d-bd6f-c5addc4e7b09",
   "metadata": {},
   "outputs": [
    {
     "data": {
      "text/plain": [
       "major occupation code\n",
       "White                          167365\n",
       "Black                           20415\n",
       "Asian or Pacific Islander        5835\n",
       "Other                            3657\n",
       "Amer Indian Aleut or Eskimo      2251\n",
       "Name: count, dtype: int64"
      ]
     },
     "execution_count": 68,
     "metadata": {},
     "output_type": "execute_result"
    }
   ],
   "source": [
    "#How many people of each race are represented in this dataset? \n",
    "t#This should be a Pandas series with race names as the index labels. (race column)\n",
    "df1[\"major occupation code\"].value_counts()"
   ]
  },
  {
   "cell_type": "code",
   "execution_count": 66,
   "id": "8df7bf4a-abc7-4cb5-aa0e-717bec0a805d",
   "metadata": {},
   "outputs": [
    {
     "data": {
      "text/plain": [
       "race\n",
       "White                          167365\n",
       "Black                           20415\n",
       "Asian or Pacific Islander        5835\n",
       "Other                            3657\n",
       "Amer Indian Aleut or Eskimo      2251\n",
       "Name: count, dtype: int64"
      ]
     },
     "execution_count": 66,
     "metadata": {},
     "output_type": "execute_result"
    }
   ],
   "source": [
    "races = df1[\"major occupation code\"].value_counts()\n",
    "races.index.name = \"race\"\n",
    "races"
   ]
  },
  {
   "cell_type": "code",
   "execution_count": 76,
   "id": "2b349766-9c5c-43f6-b0f4-ef1777fab924",
   "metadata": {},
   "outputs": [
    {
     "data": {
      "text/plain": [
       "nan"
      ]
     },
     "execution_count": 76,
     "metadata": {},
     "output_type": "execute_result"
    }
   ],
   "source": [
    "df1[df1['hispanic Origin']=='Male']['age'].mean()"
   ]
  },
  {
   "cell_type": "code",
   "execution_count": 74,
   "id": "31d0ce71-d588-43ff-b23e-0f635f6e3dd5",
   "metadata": {},
   "outputs": [
    {
     "name": "stdout",
     "output_type": "stream",
     "text": [
      "Index(['age', 'class of worker', 'industry code', 'occupation code',\n",
      "       'adjusted gross income', 'education', 'wage per hour',\n",
      "       'enrolled in edu inst last wk', 'marital status', 'major industry code',\n",
      "       'major occupation code', 'mace', 'hispanic Origin', 'sex',\n",
      "       'member of a labor union', 'reason for unemployment',\n",
      "       'full or part time employment stat', 'capital gains', 'capital losses',\n",
      "       'divdends from stocks', 'federal income tax liability',\n",
      "       'tax filer status', 'region of previous residence',\n",
      "       'state of previous residence', 'detailed household and family stat',\n",
      "       'detailed household summary in household', 'instance weight',\n",
      "       'migration code-change in msa', 'migration code-change in reg',\n",
      "       'migration code-move within reg', 'live in this house 1 year ago',\n",
      "       'migration prev res in sunbelt', 'num persons worked for employer',\n",
      "       'family members under 18', 'total person earnings',\n",
      "       'country of birth father', 'country of birth mother',\n",
      "       'country of birth self', 'citizenship', 'total person income',\n",
      "       'own business or self employed', 'taxable income amount',\n",
      "       'fill inc questionnaire for veteran's admin', 'veterans benefits',\n",
      "       'weeks worked in year'],\n",
      "      dtype='object')\n"
     ]
    }
   ],
   "source": [
    "print(df1.columns)"
   ]
  },
  {
   "cell_type": "code",
   "execution_count": 78,
   "id": "70159d75-4640-4b4f-9263-8d5ccd463152",
   "metadata": {},
   "outputs": [
    {
     "data": {
      "text/plain": [
       "hispanic Origin\n",
       "Female    35.618230\n",
       "Male      33.270811\n",
       "Name: age, dtype: float64"
      ]
     },
     "execution_count": 78,
     "metadata": {},
     "output_type": "execute_result"
    }
   ],
   "source": [
    "df1.groupby(\"hispanic Origin\")[\"age\"].mean()"
   ]
  },
  {
   "cell_type": "code",
   "execution_count": 82,
   "id": "d425567e-8286-483c-bbb2-5fbd7406ffd1",
   "metadata": {},
   "outputs": [
    {
     "data": {
      "text/plain": [
       "33.27081087304661"
      ]
     },
     "execution_count": 82,
     "metadata": {},
     "output_type": "execute_result"
    }
   ],
   "source": [
    "df1['hispanic Origin'] = df1['hispanic Origin'].str.strip()\n",
    "df1[df1['hispanic Origin'] == 'Male']['age'].mean()"
   ]
  },
  {
   "cell_type": "code",
   "execution_count": 86,
   "id": "da1bd3ba-c401-4637-bbd6-45d332b8330b",
   "metadata": {},
   "outputs": [
    {
     "name": "stdout",
     "output_type": "stream",
     "text": [
      "ඞ\n"
     ]
    }
   ],
   "source": [
    "print(chr(sum(range(ord(min(str(not())))))))"
   ]
  },
  {
   "cell_type": "code",
   "execution_count": 124,
   "id": "9850b081-7d01-499e-b972-9f2748ad07db",
   "metadata": {},
   "outputs": [
    {
     "name": "stdout",
     "output_type": "stream",
     "text": [
      "19865\n"
     ]
    }
   ],
   "source": [
    "bachelors = len(df1[df1['adjusted gross income'].str.strip() == 'Bachelors degree(BA AB BS)'])\n",
    "print(bachelors)"
   ]
  },
  {
   "cell_type": "code",
   "execution_count": 132,
   "id": "a1997d94-cbb9-434f-acb5-241220752ec4",
   "metadata": {},
   "outputs": [
    {
     "name": "stdout",
     "output_type": "stream",
     "text": [
      "9.96%\n"
     ]
    }
   ],
   "source": [
    "total_persons = len(df1)\n",
    "#total_persons\n",
    "porcentaje_bachelor = bachelors/total_persons * 100\n",
    "print(f\"{porcentaje_bachelor:.2f}%\")"
   ]
  },
  {
   "cell_type": "code",
   "execution_count": 146,
   "id": "6fe8b5b8-f348-4061-bbf5-888c884cf8e0",
   "metadata": {},
   "outputs": [
    {
     "name": "stdout",
     "output_type": "stream",
     "text": [
      "23.89%\n"
     ]
    }
   ],
   "source": [
    "advanced_degrees = [\"Bachelors degree(BA AB BS)\",\"Masters degree(MA MS MEng MEd MSW MBA)\",\"Doctorate degree(PhD EdD)\"]\n",
    "df_filtrado = df1[df1['adjusted gross income'].str.strip().isin([deg for deg in advanced_degrees])]\n",
    "arriba50k = df_filtrado[df_filtrado['taxable income amount'].str.strip() == '50000+.']\n",
    "porcentaje_sueldos = len(arriba50k)/len(df_filtrado) *100\n",
    "print (f\"{porcentaje_sueldos:.2f}%\")"
   ]
  },
  {
   "cell_type": "code",
   "execution_count": 148,
   "id": "8521f654-0d0e-46dd-95c7-eb634e666762",
   "metadata": {},
   "outputs": [
    {
     "name": "stdout",
     "output_type": "stream",
     "text": [
      "3.36%\n"
     ]
    }
   ],
   "source": [
    "no_advanced_degrees = df1[~df1['adjusted gross income'].str.strip().isin([deg for deg in advanced_degrees])]\n",
    "arriba50k_noadv = no_advanced_degrees[no_advanced_degrees['taxable income amount'].str.strip() == '50000+.']\n",
    "porcentaje_sueldos_noadv = len(arriba50k_noadv)/len(no_advanced_degrees) *100\n",
    "print (f\"{porcentaje_sueldos_noadv:.2f}%\")"
   ]
  },
  {
   "cell_type": "code",
   "execution_count": 170,
   "id": "da8705a5-4b6a-4cc8-95ac-51f4562d310a",
   "metadata": {},
   "outputs": [
    {
     "name": "stdout",
     "output_type": "stream",
     "text": [
      "13.763904626143745%\n"
     ]
    }
   ],
   "source": [
    "#supose minimum hours are 40:\n",
    "df_40hs = df1[df1['total person income']>=40]\n",
    "a = df_40hs[\"age\"].count()\n",
    "\n",
    "df_40hs_and50k = df_40hs[df_40hs['taxable income amount'].str.strip() == '50000+.']\n",
    "b = df_40hs_and50k[\"age\"].count()\n",
    "\n",
    "perc = b/a * 100\n",
    "print(f\"{perc}%\")"
   ]
  },
  {
   "cell_type": "code",
   "execution_count": 184,
   "id": "48c4996b-a1a6-4af7-b345-5a2d9dbbfa7e",
   "metadata": {},
   "outputs": [
    {
     "name": "stdout",
     "output_type": "stream",
     "text": [
      "the country is  Holand-Netherlands with 21.73913043478261%\n"
     ]
    }
   ],
   "source": [
    "mas50k = df1[df1['taxable income amount'].str.strip() == '50000+.']\n",
    "mas50k_por_pais = mas50k['total person earnings'].value_counts()\n",
    "total_por_pais = df1['total person earnings'].value_counts()\n",
    "porc = (mas50k_por_pais / total_por_pais)*100\n",
    "top_pais = porc.idxmax()\n",
    "top_porc = porc.max()\n",
    "print(f\"the country is {top_pais} with {top_porc}%\")"
   ]
  },
  {
   "cell_type": "code",
   "execution_count": 194,
   "id": "f4eb448b-8162-4c60-9dcb-50894bc166ed",
   "metadata": {},
   "outputs": [
    {
     "data": {
      "text/plain": [
       "class of worker\n",
       "Private                           37\n",
       "State government                  12\n",
       "Self-employed-incorporated        11\n",
       "Federal government                 6\n",
       "Self-employed-not incorporated     4\n",
       "Local government                   1\n",
       "Name: count, dtype: int64"
      ]
     },
     "execution_count": 194,
     "metadata": {},
     "output_type": "execute_result"
    }
   ],
   "source": [
    "df_india = df1[df1[\"total person earnings\"].str.strip() == \"India\"]\n",
    "ricos_india = df_india[df_india['taxable income amount'].str.strip() == '50000+.']\n",
    "ricos_india[\"class of worker\"].value_counts()"
   ]
  },
  {
   "cell_type": "code",
   "execution_count": 196,
   "id": "13bd9dad-04f5-4e6f-99bf-2cd6cb441b4e",
   "metadata": {},
   "outputs": [
    {
     "data": {
      "text/plain": [
       "marital status\n",
       "Medical except hospital              15\n",
       "Education                            11\n",
       "Manufacturing-durable goods          11\n",
       "Hospital services                     8\n",
       "Other professional services           8\n",
       "Finance insurance and real estate     5\n",
       "Manufacturing-nondurable goods        3\n",
       "Communications                        2\n",
       "Business and repair services          2\n",
       "Public administration                 2\n",
       "Construction                          1\n",
       "Transportation                        1\n",
       "Retail trade                          1\n",
       "Wholesale trade                       1\n",
       "Name: count, dtype: int64"
      ]
     },
     "execution_count": 196,
     "metadata": {},
     "output_type": "execute_result"
    }
   ],
   "source": [
    "ricos_india[\"marital status\"].value_counts()"
   ]
  },
  {
   "cell_type": "code",
   "execution_count": 198,
   "id": "537f4a6d-75d7-4979-8b8e-031f6cf2fbcb",
   "metadata": {},
   "outputs": [
    {
     "data": {
      "text/plain": [
       "major industry code\n",
       "Professional specialty                 56\n",
       "Executive admin and managerial          6\n",
       "Technicians and related support         3\n",
       "Precision production craft & repair     2\n",
       "Adm support including clerical          2\n",
       "Sales                                   1\n",
       "Transportation and material moving      1\n",
       "Name: count, dtype: int64"
      ]
     },
     "execution_count": 198,
     "metadata": {},
     "output_type": "execute_result"
    }
   ],
   "source": [
    "ricos_india[\"major industry code\"].value_counts()"
   ]
  },
  {
   "cell_type": "code",
   "execution_count": null,
   "id": "e5c1dfe4-ca52-4f3b-934b-b6d8b89a630a",
   "metadata": {},
   "outputs": [],
   "source": []
  }
 ],
 "metadata": {
  "kernelspec": {
   "display_name": "Python [conda env:base] *",
   "language": "python",
   "name": "conda-base-py"
  },
  "language_info": {
   "codemirror_mode": {
    "name": "ipython",
    "version": 3
   },
   "file_extension": ".py",
   "mimetype": "text/x-python",
   "name": "python",
   "nbconvert_exporter": "python",
   "pygments_lexer": "ipython3",
   "version": "3.12.7"
  }
 },
 "nbformat": 4,
 "nbformat_minor": 5
}
